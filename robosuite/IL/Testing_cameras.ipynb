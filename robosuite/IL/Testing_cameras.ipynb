{
 "cells": [
  {
   "cell_type": "code",
   "execution_count": 1,
   "metadata": {},
   "outputs": [],
   "source": [
    "from matplotlib import pyplot as plt"
   ]
  },
  {
   "cell_type": "code",
   "execution_count": 2,
   "metadata": {},
   "outputs": [],
   "source": [
    "def draw_image(image):\n",
    "    plt.imshow(image)\n",
    "    plt.show()"
   ]
  },
  {
   "cell_type": "code",
   "execution_count": 3,
   "metadata": {
    "scrolled": true
   },
   "outputs": [
    {
     "name": "stderr",
     "output_type": "stream",
     "text": [
      "WARNING:root:Failed to import geometry msgs in rigid_transformations.py.\n",
      "WARNING:root:Failed to import ros dependencies in rigid_transforms.py\n",
      "WARNING:root:autolab_core not installed as catkin package, RigidTransform ros methods will be unavailable\n",
      "/home/scarab5/anaconda3/envs/robosuite/lib/python3.6/site-packages/tensorflow/python/framework/dtypes.py:516: FutureWarning: Passing (type, 1) or '1type' as a synonym of type is deprecated; in a future version of numpy, it will be understood as (type, (1,)) / '(1,)type'.\n",
      "  _np_qint8 = np.dtype([(\"qint8\", np.int8, 1)])\n",
      "/home/scarab5/anaconda3/envs/robosuite/lib/python3.6/site-packages/tensorflow/python/framework/dtypes.py:517: FutureWarning: Passing (type, 1) or '1type' as a synonym of type is deprecated; in a future version of numpy, it will be understood as (type, (1,)) / '(1,)type'.\n",
      "  _np_quint8 = np.dtype([(\"quint8\", np.uint8, 1)])\n",
      "/home/scarab5/anaconda3/envs/robosuite/lib/python3.6/site-packages/tensorflow/python/framework/dtypes.py:518: FutureWarning: Passing (type, 1) or '1type' as a synonym of type is deprecated; in a future version of numpy, it will be understood as (type, (1,)) / '(1,)type'.\n",
      "  _np_qint16 = np.dtype([(\"qint16\", np.int16, 1)])\n",
      "/home/scarab5/anaconda3/envs/robosuite/lib/python3.6/site-packages/tensorflow/python/framework/dtypes.py:519: FutureWarning: Passing (type, 1) or '1type' as a synonym of type is deprecated; in a future version of numpy, it will be understood as (type, (1,)) / '(1,)type'.\n",
      "  _np_quint16 = np.dtype([(\"quint16\", np.uint16, 1)])\n",
      "/home/scarab5/anaconda3/envs/robosuite/lib/python3.6/site-packages/tensorflow/python/framework/dtypes.py:520: FutureWarning: Passing (type, 1) or '1type' as a synonym of type is deprecated; in a future version of numpy, it will be understood as (type, (1,)) / '(1,)type'.\n",
      "  _np_qint32 = np.dtype([(\"qint32\", np.int32, 1)])\n",
      "/home/scarab5/anaconda3/envs/robosuite/lib/python3.6/site-packages/tensorflow/python/framework/dtypes.py:525: FutureWarning: Passing (type, 1) or '1type' as a synonym of type is deprecated; in a future version of numpy, it will be understood as (type, (1,)) / '(1,)type'.\n",
      "  np_resource = np.dtype([(\"resource\", np.ubyte, 1)])\n",
      "/home/scarab5/anaconda3/envs/robosuite/lib/python3.6/site-packages/tensorboard/compat/tensorflow_stub/dtypes.py:541: FutureWarning: Passing (type, 1) or '1type' as a synonym of type is deprecated; in a future version of numpy, it will be understood as (type, (1,)) / '(1,)type'.\n",
      "  _np_qint8 = np.dtype([(\"qint8\", np.int8, 1)])\n",
      "/home/scarab5/anaconda3/envs/robosuite/lib/python3.6/site-packages/tensorboard/compat/tensorflow_stub/dtypes.py:542: FutureWarning: Passing (type, 1) or '1type' as a synonym of type is deprecated; in a future version of numpy, it will be understood as (type, (1,)) / '(1,)type'.\n",
      "  _np_quint8 = np.dtype([(\"quint8\", np.uint8, 1)])\n",
      "/home/scarab5/anaconda3/envs/robosuite/lib/python3.6/site-packages/tensorboard/compat/tensorflow_stub/dtypes.py:543: FutureWarning: Passing (type, 1) or '1type' as a synonym of type is deprecated; in a future version of numpy, it will be understood as (type, (1,)) / '(1,)type'.\n",
      "  _np_qint16 = np.dtype([(\"qint16\", np.int16, 1)])\n",
      "/home/scarab5/anaconda3/envs/robosuite/lib/python3.6/site-packages/tensorboard/compat/tensorflow_stub/dtypes.py:544: FutureWarning: Passing (type, 1) or '1type' as a synonym of type is deprecated; in a future version of numpy, it will be understood as (type, (1,)) / '(1,)type'.\n",
      "  _np_quint16 = np.dtype([(\"quint16\", np.uint16, 1)])\n",
      "/home/scarab5/anaconda3/envs/robosuite/lib/python3.6/site-packages/tensorboard/compat/tensorflow_stub/dtypes.py:545: FutureWarning: Passing (type, 1) or '1type' as a synonym of type is deprecated; in a future version of numpy, it will be understood as (type, (1,)) / '(1,)type'.\n",
      "  _np_qint32 = np.dtype([(\"qint32\", np.int32, 1)])\n",
      "/home/scarab5/anaconda3/envs/robosuite/lib/python3.6/site-packages/tensorboard/compat/tensorflow_stub/dtypes.py:550: FutureWarning: Passing (type, 1) or '1type' as a synonym of type is deprecated; in a future version of numpy, it will be understood as (type, (1,)) / '(1,)type'.\n",
      "  np_resource = np.dtype([(\"resource\", np.ubyte, 1)])\n",
      "WARNING:root:Unable to import pylibfreenect2. Python-only Kinect driver may not work properly.\n",
      "WARNING:root:Failed to import ROS in Kinect2_sensor.py. Kinect will not be able to be used in bridged mode\n",
      "WARNING:root:Unable to import openni2 driver. Python-only Primesense driver may not work properly\n",
      "WARNING:root:Unable to import pyrealsense2.\n",
      "WARNING:root:Failed to import ROS in ensenso_sensor.py. ROS functionality not available\n",
      "WARNING:root:Failed to import ROS in phoxi_sensor.py. PhoXiSensor functionality unavailable.\n",
      "WARNING:root:Unable to import weight sensor modules!\n",
      "WARNING:tensorflow:From /home/scarab5/anaconda3/envs/robosuite/lib/python3.6/site-packages/gqcnn/utils/enums.py:44: The name tf.RunOptions is deprecated. Please use tf.compat.v1.RunOptions instead.\n",
      "\n"
     ]
    }
   ],
   "source": [
    "import datetime\n",
    "import numpy as np\n",
    "import os\n",
    "import sys\n",
    "import pickle\n",
    "\n",
    "FILE_PATH = os.path.abspath('')\n",
    "sys.path.append(os.path.join(FILE_PATH, '../..'))\n",
    "sys.path.append(os.path.join(FILE_PATH, '..', 'scripts'))\n",
    "from demo_baxter_rl_pushing import *"
   ]
  },
  {
   "cell_type": "code",
   "execution_count": 4,
   "metadata": {},
   "outputs": [
    {
     "name": "stdout",
     "output_type": "stream",
     "text": [
      "Creating window glfw\n"
     ]
    }
   ],
   "source": [
    "screen_width = 192 #264\n",
    "screen_height = 192 #64\n",
    "crop = 128\n",
    "rgbd = True\n",
    "\n",
    "env = robosuite.make(\n",
    "    \"BaxterPush\",\n",
    "    bin_type='table',\n",
    "    object_type='cube',\n",
    "    ignore_done=True,\n",
    "    has_renderer=True,\n",
    "    camera_name=\"eye_on_right_wrist\",\n",
    "    gripper_visualization=False,\n",
    "    use_camera_obs=False,\n",
    "    use_object_obs=False,\n",
    "    camera_depth=True,\n",
    "    num_objects=2,\n",
    "    control_freq=100,\n",
    "    camera_width=screen_width,\n",
    "    camera_height=screen_height,\n",
    "    crop=crop\n",
    ")\n",
    "env = IKWrapper(env)\n",
    "env = BaxterEnv(env, task='reach', render=True, using_feature=False, random_spawn=True, rgbd=True, action_type='2D')"
   ]
  },
  {
   "cell_type": "code",
   "execution_count": 8,
   "metadata": {},
   "outputs": [
    {
     "name": "stdout",
     "output_type": "stream",
     "text": [
      "Creating window glfw\n",
      "Creating window glfw\n"
     ]
    }
   ],
   "source": [
    "obs = env.reset()"
   ]
  },
  {
   "cell_type": "code",
   "execution_count": 13,
   "metadata": {},
   "outputs": [
    {
     "ename": "ValueError",
     "evalue": "No \"camera\" with name right_hand_camera exists. Available \"camera\" names = ('frontview', 'birdview', 'agentview', 'rlview1', 'rlview2', 'eye_on_right_wrist', 'eye_in_hand', 'eye_on_left_wrist').",
     "output_type": "error",
     "traceback": [
      "\u001b[0;31m---------------------------------------------------------------------------\u001b[0m",
      "\u001b[0;31mValueError\u001b[0m                                Traceback (most recent call last)",
      "\u001b[0;32m<ipython-input-13-4a708d9e58d4>\u001b[0m in \u001b[0;36m<module>\u001b[0;34m\u001b[0m\n\u001b[1;32m      3\u001b[0m             \u001b[0mwidth\u001b[0m\u001b[0;34m=\u001b[0m\u001b[0;36m128\u001b[0m\u001b[0;34m,\u001b[0m\u001b[0;34m\u001b[0m\u001b[0;34m\u001b[0m\u001b[0m\n\u001b[1;32m      4\u001b[0m             \u001b[0mheight\u001b[0m\u001b[0;34m=\u001b[0m\u001b[0;36m128\u001b[0m\u001b[0;34m,\u001b[0m\u001b[0;34m\u001b[0m\u001b[0;34m\u001b[0m\u001b[0m\n\u001b[0;32m----> 5\u001b[0;31m             \u001b[0mdepth\u001b[0m\u001b[0;34m=\u001b[0m\u001b[0;32mTrue\u001b[0m\u001b[0;34m,\u001b[0m\u001b[0;34m\u001b[0m\u001b[0;34m\u001b[0m\u001b[0m\n\u001b[0m\u001b[1;32m      6\u001b[0m             \u001b[0;31m#device_id=1,\u001b[0m\u001b[0;34m\u001b[0m\u001b[0;34m\u001b[0m\u001b[0;34m\u001b[0m\u001b[0m\n\u001b[1;32m      7\u001b[0m         )\n",
      "\u001b[0;32manaconda3/envs/robosuite/lib/python3.6/site-packages/mujoco_py/mjsim.pyx\u001b[0m in \u001b[0;36mmujoco_py.cymj.MjSim.render\u001b[0;34m()\u001b[0m\n",
      "\u001b[0;32manaconda3/envs/robosuite/lib/python3.6/site-packages/mujoco_py/generated/wrappers.pxi\u001b[0m in \u001b[0;36mmujoco_py.cymj.PyMjModel.camera_name2id\u001b[0;34m()\u001b[0m\n",
      "\u001b[0;31mValueError\u001b[0m: No \"camera\" with name right_hand_camera exists. Available \"camera\" names = ('frontview', 'birdview', 'agentview', 'rlview1', 'rlview2', 'eye_on_right_wrist', 'eye_in_hand', 'eye_on_left_wrist')."
     ]
    }
   ],
   "source": [
    "camera_obs = env.env.sim.render(\n",
    "            camera_name='right_hand_camera',\n",
    "            width=128,\n",
    "            height=128,\n",
    "            depth=True,\n",
    "            #device_id=1,\n",
    "        )"
   ]
  },
  {
   "cell_type": "code",
   "execution_count": 30,
   "metadata": {},
   "outputs": [],
   "source": [
    "def get_image(camera_name): # eye_in_hand , right_hand_camera\n",
    "    camera_obs = env.env.sim.render(\n",
    "            camera_name=camera_name,\n",
    "            width=128,\n",
    "            height=128,\n",
    "            depth=True,\n",
    "            #device_id=1,\n",
    "        )\n",
    "    return camera_obs"
   ]
  },
  {
   "cell_type": "code",
   "execution_count": 58,
   "metadata": {},
   "outputs": [
    {
     "name": "stdout",
     "output_type": "stream",
     "text": [
      "[ 9.99705843e-01 -2.12871660e-04  9.99855734e-01]\n"
     ]
    }
   ],
   "source": [
    "_ = env.step(0)"
   ]
  },
  {
   "cell_type": "code",
   "execution_count": 59,
   "metadata": {},
   "outputs": [
    {
     "data": {
      "image/png": "[encoded data removed]",
      "text/plain": [
       "<Figure size 432x288 with 1 Axes>"
      ]
     },
     "metadata": {
      "needs_background": "light"
     },
     "output_type": "display_data"
    }
   ],
   "source": [
    "draw_image(get_image('birdview')[0])"
   ]
  },
  {
   "cell_type": "code",
   "execution_count": 60,
   "metadata": {},
   "outputs": [
    {
     "data": {
      "image/png": "[encoded data removed]",
      "text/plain": [
       "<Figure size 432x288 with 1 Axes>"
      ]
     },
     "metadata": {
      "needs_background": "light"
     },
     "output_type": "display_data"
    },
    {
     "data": {
      "image/png": "[encoded data removed]",
      "text/plain": [
       "<Figure size 432x288 with 1 Axes>"
      ]
     },
     "metadata": {
      "needs_background": "light"
     },
     "output_type": "display_data"
    }
   ],
   "source": [
    "draw_image(get_image('eye_in_hand')[0])\n",
    "draw_image(get_image('eye_on_right_wrist')[0])"
   ]
  },
  {
   "cell_type": "code",
   "execution_count": 51,
   "metadata": {},
   "outputs": [
    {
     "data": {
      "text/plain": [
       "(128, 128, 3)"
      ]
     },
     "execution_count": 51,
     "metadata": {},
     "output_type": "execute_result"
    }
   ],
   "source": [
    "camera_obs[0].shape"
   ]
  },
  {
   "cell_type": "code",
   "execution_count": 17,
   "metadata": {},
   "outputs": [
    {
     "data": {
      "text/plain": [
       "(128, 128)"
      ]
     },
     "execution_count": 17,
     "metadata": {},
     "output_type": "execute_result"
    }
   ],
   "source": [
    "camera_obs[1].shape"
   ]
  },
  {
   "cell_type": "code",
   "execution_count": 18,
   "metadata": {},
   "outputs": [
    {
     "data": {
      "image/png": "[encoded data removed]",
      "text/plain": [
       "<Figure size 432x288 with 1 Axes>"
      ]
     },
     "metadata": {
      "needs_background": "light"
     },
     "output_type": "display_data"
    }
   ],
   "source": [
    "draw_image(camera_obs[0])"
   ]
  },
  {
   "cell_type": "code",
   "execution_count": 23,
   "metadata": {},
   "outputs": [
    {
     "name": "stdout",
     "output_type": "stream",
     "text": [
      "[ 9.99620698e-01 -1.35656997e-04  9.99769720e-01]\n"
     ]
    },
    {
     "data": {
      "text/plain": [
       "([array([[[0.42745098, 0.42745098, 0.42745098, 3.24551773],\n",
       "          [0.42745098, 0.42745098, 0.42745098, 3.24551773],\n",
       "          [0.42745098, 0.42745098, 0.42745098, 3.24551773],\n",
       "          ...,\n",
       "          [0.45098039, 0.45098039, 0.45098039, 3.24551773],\n",
       "          [0.45098039, 0.45098039, 0.45098039, 3.24551773],\n",
       "          [0.45098039, 0.45098039, 0.45098039, 3.24551773]],\n",
       "  \n",
       "         [[0.42745098, 0.42745098, 0.42745098, 3.2435627 ],\n",
       "          [0.42745098, 0.42745098, 0.42745098, 3.2435627 ],\n",
       "          [0.42745098, 0.42745098, 0.42745098, 3.2435627 ],\n",
       "          ...,\n",
       "          [0.45098039, 0.45098039, 0.45098039, 3.2435627 ],\n",
       "          [0.45098039, 0.45098039, 0.45098039, 3.2435627 ],\n",
       "          [0.45098039, 0.45098039, 0.45098039, 3.2435627 ]],\n",
       "  \n",
       "         [[0.42745098, 0.42745098, 0.42745098, 3.2415843 ],\n",
       "          [0.42745098, 0.42745098, 0.42745098, 3.2415843 ],\n",
       "          [0.42745098, 0.42745098, 0.42745098, 3.2415843 ],\n",
       "          ...,\n",
       "          [0.45098039, 0.45098039, 0.45098039, 3.2415843 ],\n",
       "          [0.45098039, 0.45098039, 0.45098039, 3.2415843 ],\n",
       "          [0.45098039, 0.45098039, 0.45098039, 3.2415843 ]],\n",
       "  \n",
       "         ...,\n",
       "  \n",
       "         [[0.44313725, 0.44313725, 0.44313725, 3.01610398],\n",
       "          [0.44313725, 0.44313725, 0.44313725, 3.01610398],\n",
       "          [0.44313725, 0.44313725, 0.44313725, 3.01610398],\n",
       "          ...,\n",
       "          [0.46666667, 0.46666667, 0.46666667, 3.01610398],\n",
       "          [0.46666667, 0.46666667, 0.46666667, 3.01610398],\n",
       "          [0.46666667, 0.46666667, 0.46666667, 3.01610398]],\n",
       "  \n",
       "         [[0.44313725, 0.44313725, 0.44313725, 3.01439333],\n",
       "          [0.44313725, 0.44313725, 0.44313725, 3.01439333],\n",
       "          [0.44313725, 0.44313725, 0.44313725, 3.01439333],\n",
       "          ...,\n",
       "          [0.46666667, 0.46666667, 0.46666667, 3.01439333],\n",
       "          [0.46666667, 0.46666667, 0.46666667, 3.01439333],\n",
       "          [0.46666667, 0.46666667, 0.46666667, 3.01439333]],\n",
       "  \n",
       "         [[0.44313725, 0.44313725, 0.44313725, 3.01268458],\n",
       "          [0.44313725, 0.44313725, 0.44313725, 3.01268458],\n",
       "          [0.44313725, 0.44313725, 0.44313725, 3.01268458],\n",
       "          ...,\n",
       "          [0.46666667, 0.46666667, 0.46666667, 3.01268458],\n",
       "          [0.46666667, 0.46666667, 0.46666667, 3.01268458],\n",
       "          [0.47058824, 0.47058824, 0.47058824, 3.01268458]]]),\n",
       "  array([[[0.50588235, 0.50588235, 0.50588235, 3.05143476],\n",
       "          [0.50588235, 0.50588235, 0.50588235, 3.05143476],\n",
       "          [0.50588235, 0.50588235, 0.50588235, 3.05143476],\n",
       "          ...,\n",
       "          [0.47058824, 0.47058824, 0.47058824, 3.05143476],\n",
       "          [0.47058824, 0.47058824, 0.47058824, 3.05143476],\n",
       "          [0.47058824, 0.47058824, 0.47058824, 3.05143476]],\n",
       "  \n",
       "         [[0.50980392, 0.50980392, 0.50980392, 3.03345299],\n",
       "          [0.50980392, 0.50980392, 0.50980392, 3.03345299],\n",
       "          [0.50980392, 0.50980392, 0.50980392, 3.03345299],\n",
       "          ...,\n",
       "          [0.47058824, 0.47058824, 0.47058824, 3.03345299],\n",
       "          [0.47058824, 0.47058824, 0.47058824, 3.03345299],\n",
       "          [0.47058824, 0.47058824, 0.47058824, 3.03345299]],\n",
       "  \n",
       "         [[0.51372549, 0.51372549, 0.51372549, 3.01565957],\n",
       "          [0.51372549, 0.51372549, 0.51372549, 3.01565957],\n",
       "          [0.50980392, 0.50980392, 0.50980392, 3.01565957],\n",
       "          ...,\n",
       "          [0.4745098 , 0.4745098 , 0.4745098 , 3.01565957],\n",
       "          [0.4745098 , 0.4745098 , 0.4745098 , 3.01565957],\n",
       "          [0.4745098 , 0.4745098 , 0.4745098 , 3.01565957]],\n",
       "  \n",
       "         ...,\n",
       "  \n",
       "         [[0.88235294, 0.88235294, 0.88235294, 1.75245619],\n",
       "          [0.88627451, 0.88627451, 0.88627451, 1.75245619],\n",
       "          [0.88627451, 0.88627451, 0.88627451, 1.75245619],\n",
       "          ...,\n",
       "          [0.96862745, 0.96862745, 0.96862745, 1.75245619],\n",
       "          [0.96862745, 0.96862745, 0.96862745, 1.75245619],\n",
       "          [0.96862745, 0.96862745, 0.96862745, 1.75245619]],\n",
       "  \n",
       "         [[0.88627451, 0.88627451, 0.88627451, 1.74651039],\n",
       "          [0.89019608, 0.89019608, 0.89019608, 1.74651039],\n",
       "          [0.89019608, 0.89019608, 0.89019608, 1.74651039],\n",
       "          ...,\n",
       "          [0.97254902, 0.97254902, 0.97254902, 1.74651039],\n",
       "          [0.97254902, 0.97254902, 0.97254902, 1.74651039],\n",
       "          [0.97254902, 0.97254902, 0.97254902, 1.74651039]],\n",
       "  \n",
       "         [[0.89019608, 0.89019608, 0.89019608, 1.74059737],\n",
       "          [0.89019608, 0.89019608, 0.89019608, 1.74059737],\n",
       "          [0.89411765, 0.89411765, 0.89411765, 1.74059737],\n",
       "          ...,\n",
       "          [0.97254902, 0.97254902, 0.97254902, 1.74059737],\n",
       "          [0.97254902, 0.97254902, 0.97254902, 1.74059737],\n",
       "          [0.97254902, 0.97254902, 0.97254902, 1.74059737]]])],\n",
       " -0.1,\n",
       " False,\n",
       " {})"
      ]
     },
     "execution_count": 23,
     "metadata": {},
     "output_type": "execute_result"
    }
   ],
   "source": [
    "env.step(0)"
   ]
  },
  {
   "cell_type": "code",
   "execution_count": 26,
   "metadata": {},
   "outputs": [
    {
     "data": {
      "image/png": "[encoded data removed]",
      "text/plain": [
       "<Figure size 432x288 with 1 Axes>"
      ]
     },
     "metadata": {
      "needs_background": "light"
     },
     "output_type": "display_data"
    }
   ],
   "source": [
    "draw_image(camera_obs[0])"
   ]
  },
  {
   "cell_type": "code",
   "execution_count": 24,
   "metadata": {},
   "outputs": [
    {
     "data": {
      "image/png": "[encoded data removed]",
      "text/plain": [
       "<Figure size 432x288 with 1 Axes>"
      ]
     },
     "metadata": {
      "needs_background": "light"
     },
     "output_type": "display_data"
    }
   ],
   "source": [
    "draw_image(camera_obs[0])"
   ]
  },
  {
   "cell_type": "code",
   "execution_count": 19,
   "metadata": {},
   "outputs": [
    {
     "data": {
      "text/plain": [
       "'eye_on_right_wrist'"
      ]
     },
     "execution_count": 19,
     "metadata": {},
     "output_type": "execute_result"
    }
   ],
   "source": [
    "env.env.camera_name"
   ]
  },
  {
   "cell_type": "code",
   "execution_count": 20,
   "metadata": {},
   "outputs": [
    {
     "data": {
      "image/png": "[encoded data removed]",
      "text/plain": [
       "<Figure size 432x288 with 1 Axes>"
      ]
     },
     "metadata": {
      "needs_background": "light"
     },
     "output_type": "display_data"
    }
   ],
   "source": [
    "draw_image(env.env.get_image()[0])"
   ]
  },
  {
   "cell_type": "code",
   "execution_count": 20,
   "metadata": {},
   "outputs": [
    {
     "data": {
      "text/plain": [
       "<mujoco_py.cymj.MjSim at 0x7f26f0652510>"
      ]
     },
     "execution_count": 20,
     "metadata": {},
     "output_type": "execute_result"
    }
   ],
   "source": [
    "env.sim.render()"
   ]
  },
  {
   "cell_type": "code",
   "execution_count": null,
   "metadata": {},
   "outputs": [],
   "source": []
  }
 ],
 "metadata": {
  "kernelspec": {
   "display_name": "robosuite",
   "language": "python",
   "name": "robosuite"
  },
  "language_info": {
   "codemirror_mode": {
    "name": "ipython",
    "version": 3
   },
   "file_extension": ".py",
   "mimetype": "text/x-python",
   "name": "python",
   "nbconvert_exporter": "python",
   "pygments_lexer": "ipython3",
   "version": "3.6.10"
  }
 },
 "nbformat": 4,
 "nbformat_minor": 2
}
